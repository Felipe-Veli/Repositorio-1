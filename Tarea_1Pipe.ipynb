{
 "cells": [
  {
   "cell_type": "markdown",
   "id": "2ca0522c",
   "metadata": {},
   "source": [
    "# Convolución Animada\n",
    "***\n",
    "## integrantes \n",
    "- Felipe Véliz ; felipe.veliz@alumnos.uach.cl\n",
    "\n",
    "- Leonardo Santos ; leonardo.santos@alumnos.uach.cl\n",
    "\n",
    "***\n",
    "\n",
    "## Profesor\n",
    "\n",
    "Victor Poblete\n",
    "\n",
    "## Asignatura\n",
    "\n",
    "ACUS099\n",
    "\n",
    "\n",
    "\n"
   ]
  },
  {
   "cell_type": "markdown",
   "id": "2cfb3915",
   "metadata": {},
   "source": [
    "# Introducción \n",
    "\n",
    "***\n",
    "\n",
    "# Objetivo \n",
    "\n",
    "El objetivo de este trabajo es mostrar paso a paso el proceso de convolución, de forma animada, usando lenguaje de programación python \n"
   ]
  },
  {
   "cell_type": "markdown",
   "id": "486a3bb8",
   "metadata": {},
   "source": [
    "## Librerias a usar"
   ]
  },
  {
   "cell_type": "code",
   "execution_count": null,
   "id": "24867be7",
   "metadata": {},
   "outputs": [],
   "source": [
    "from scipy import signal\n",
    "import matplotlib.pyplot as plt\n",
    "import numpy as np\n",
    "from IPython.display import Image"
   ]
  },
  {
   "cell_type": "markdown",
   "id": "370f47c4",
   "metadata": {},
   "source": [
    "## Definiendo funciones\n",
    "\n",
    "Las funciones que usaremos son las siguientes\n",
    "\n",
    "- **stem:** Grafica simple con eje *x* e *y*"
   ]
  },
  {
   "cell_type": "code",
   "execution_count": null,
   "id": "97f970c0",
   "metadata": {},
   "outputs": [],
   "source": [
    "def stem(n,x):\n",
    "    \n",
    "    \n",
    "    plt.rcParams[\"figure.figsize\"]=(16,5) \n",
    "    markerline, stemlines, baseline = plt.stem(n, x, markerfmt='o', label='x')\n",
    "    plt.setp(stemlines, 'color', plt.getp(markerline,'color'))\n",
    "    plt.setp(stemlines, 'linestyle', 'dotted')\n",
    "    #tamaño de la figura\n",
    "\n",
    "    plt.legend()\n",
    "    plt.show()"
   ]
  },
  {
   "cell_type": "markdown",
   "id": "ef53563a",
   "metadata": {},
   "source": [
    "# Definiendo variables\n",
    "\n",
    "Las variables que usaremos serán las siguientes\n",
    "\n",
    "- **x:** Lista de amplitudes de la señal *x*\n",
    "- **x_n:** Lista de las posiciones de las amplitudes de la señal *x*\n",
    "\n",
    "\n",
    "- **h:** Lista de amplitudes de la señal *h*\n",
    "- **h_n:** Lista de las posiciones de las amplitudes de la señal *h*\n",
    "\n",
    "- **minposx_n:** El minimo valor de *x_n*\n",
    "- **maxposh_n:** El maximo valor de *h_n*\n",
    "\n",
    "\n",
    "- **n:** Eje de posiciones para el gráfico, construido en como un arreglo numpy en base al minimo de *x_n* y al maximo de *h_n*\n",
    "\n",
    "\n",
    "- **c:** Cantidad de ceros a los costados\n",
    "- **C:** Cantidad de ceros entre las señales"
   ]
  },
  {
   "cell_type": "code",
   "execution_count": null,
   "id": "d6c48980",
   "metadata": {},
   "outputs": [],
   "source": [
    "x=[1,3,5,7,9]\n",
    "x_n=[-13,-12,-11,-10,-9]\n",
    "\n",
    "h=[1,1,1,1,1]\n",
    "h_n=[9,10,11,12,13]\n",
    "\n",
    "minposx_n=min(x_n)\n",
    "maxposh_n=max(h_n)\n",
    "\n",
    "\n",
    "c=2\n",
    "\n",
    "n=np.arange(minposx_n-c,maxposh_n+c+1)\n",
    "\n",
    "C=abs((len(x)+c)+(len(h)+c)-len(n))"
   ]
  },
  {
   "cell_type": "markdown",
   "id": "0e43d441",
   "metadata": {},
   "source": [
    "# Graficando ambas señales en una figura\n",
    "\n",
    "En primera instancia, siempre es mejor ver como y con que elementos vamos a trabajar, por lo que graficar ambas señales es primordial para poder llegar a una convolucion animada.\n",
    "\n",
    "Si queremos graficar las señales, debemos agregar elementos a la lista, de esta forma evitaremos problemas con la funcion stem, de otro modo nos arrojaria un error de forma o \"shape\", lo cual nos indica que los largos de ambas listas no coinciden."
   ]
  },
  {
   "cell_type": "code",
   "execution_count": null,
   "id": "164f2c61",
   "metadata": {},
   "outputs": [],
   "source": [
    "K=x+h\n",
    "L=x_n+h_n\n",
    "print(K)\n",
    "print(L)"
   ]
  },
  {
   "cell_type": "code",
   "execution_count": null,
   "id": "849eb462",
   "metadata": {},
   "outputs": [],
   "source": [
    "y_1=0\n",
    "u_1=0\n",
    "r_1=[]\n",
    "\n",
    "for i in n:\n",
    "    for l in L:\n",
    "        if i==l:\n",
    "            r_1.append(K[y_1])\n",
    "            y_1=y_1+1\n",
    "            u_1=1\n",
    "    if u_1==0:\n",
    "        r_1.append(0)\n",
    "    elif u_1==1:\n",
    "        u_1=0\n",
    "        \n",
    "print(r_1)\n",
    "stem(n,r_1)"
   ]
  },
  {
   "cell_type": "markdown",
   "id": "a5885758",
   "metadata": {},
   "source": [
    "# Comienza el movimiento\n",
    "\n",
    "En esta parte del codigo, propusimos sumar 1 a las posiciones de la señal que se moverá, ya que anteriormente verificamos las posiciones para asignar su correspondiente amplitud al momento de graficar. Luego, es guardada y sobrescrita en la variable L."
   ]
  },
  {
   "cell_type": "code",
   "execution_count": null,
   "id": "243209bd",
   "metadata": {},
   "outputs": [],
   "source": [
    "for R in range (len(x_n)):\n",
    "         x_n[R]=x_n[R]+1\n",
    "\n",
    "L1=x_n+h_n\n",
    "print(L1)\n",
    "    \n",
    "    \n",
    "\n",
    "y_1=0\n",
    "u_1=0\n",
    "r_1=[]\n",
    "\n",
    "for i in n:\n",
    "    for l in L1:\n",
    "        if i==l:\n",
    "            r_1.append(K[y_1])\n",
    "            y_1=y_1+1\n",
    "            u_1=1\n",
    "    if u_1==0:\n",
    "        r_1.append(0)\n",
    "    elif u_1==1:\n",
    "        u_1=0\n",
    "\n",
    "print(r_1)\n",
    "stem(n,r_1)\n"
   ]
  },
  {
   "cell_type": "code",
   "execution_count": null,
   "id": "dc3e2327",
   "metadata": {},
   "outputs": [],
   "source": []
  },
  {
   "cell_type": "code",
   "execution_count": null,
   "id": "082c3d11",
   "metadata": {},
   "outputs": [],
   "source": []
  }
 ],
 "metadata": {
  "kernelspec": {
   "display_name": "acus099",
   "language": "python",
   "name": "acus099"
  },
  "language_info": {
   "codemirror_mode": {
    "name": "ipython",
    "version": 3
   },
   "file_extension": ".py",
   "mimetype": "text/x-python",
   "name": "python",
   "nbconvert_exporter": "python",
   "pygments_lexer": "ipython3",
   "version": "3.8.10"
  }
 },
 "nbformat": 4,
 "nbformat_minor": 5
}
