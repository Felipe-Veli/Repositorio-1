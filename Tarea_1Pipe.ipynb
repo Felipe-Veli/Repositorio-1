{
 "cells": [
  {
   "cell_type": "markdown",
   "id": "2ca0522c",
   "metadata": {},
   "source": [
    "# Convolución Animada\n",
    "***\n",
    "## integrantes \n",
    "- Felipe Véliz ; felipe.veliz@alumnos.uach.cl\n",
    "\n",
    "- Leonardo Santos ; leonardo.santos@alumnos.uach.cl\n",
    "\n",
    "***\n",
    "\n",
    "## Profesor\n",
    "\n",
    "Victor Poblete\n",
    "\n",
    "## Asignatura\n",
    "\n",
    "ACUS099\n",
    "\n",
    "\n",
    "\n"
   ]
  },
  {
   "cell_type": "markdown",
   "id": "2cfb3915",
   "metadata": {},
   "source": [
    "# Introducción \n",
    "\n",
    "***\n",
    "\n",
    "# Objetivo \n",
    "\n"
   ]
  },
  {
   "cell_type": "markdown",
   "id": "486a3bb8",
   "metadata": {},
   "source": [
    "## Librerias a usar"
   ]
  },
  {
   "cell_type": "code",
   "execution_count": null,
   "id": "24867be7",
   "metadata": {},
   "outputs": [],
   "source": [
    "from scipy import signal\n",
    "import matplotlib.pyplot as plt\n",
    "import numpy as np\n",
    "from IPython.display import Image"
   ]
  },
  {
   "cell_type": "markdown",
   "id": "370f47c4",
   "metadata": {},
   "source": [
    "## Definiendo funciones"
   ]
  },
  {
   "cell_type": "code",
   "execution_count": null,
   "id": "97f970c0",
   "metadata": {},
   "outputs": [],
   "source": [
    "def stem(n,x):\n",
    "\n",
    "    markerline, stemlines, baseline = plt.stem(n, x, markerfmt='o', label='x')\n",
    "    plt.setp(stemlines, 'color', plt.getp(markerline,'color'))\n",
    "    plt.setp(stemlines, 'linestyle', 'dotted')\n",
    "    #tamaño de la figura\n",
    "    plt.rcParams[\"figure.figsize\"]=(16,5) \n",
    "\n",
    "    plt.legend()\n",
    "    plt.show()"
   ]
  },
  {
   "cell_type": "markdown",
   "id": "ef53563a",
   "metadata": {},
   "source": [
    "# Definiendo variables"
   ]
  },
  {
   "cell_type": "code",
   "execution_count": null,
   "id": "d6c48980",
   "metadata": {},
   "outputs": [],
   "source": [
    "x=[1,3,5,7,9]\n",
    "x_n=[-13,-12,-11,-10,-9]\n",
    "\n",
    "h=[1,1,1,1,1]\n",
    "h_n=[9,10,11,12,13]\n",
    "\n",
    "#cantidad de ceros a los costados\n",
    "c=2\n",
    "\n",
    "minposx_n=min(x_n)\n",
    "maxposh_n=max(h_n)\n",
    "\n",
    "n=np.arange(minposx_n-c,maxposh_n+c+1)"
   ]
  },
  {
   "cell_type": "code",
   "execution_count": null,
   "id": "164f2c61",
   "metadata": {},
   "outputs": [],
   "source": [
    "kk=x+h\n",
    "ll=x_n+h_n\n",
    "print(kk)\n",
    "print(ll)"
   ]
  },
  {
   "cell_type": "code",
   "execution_count": null,
   "id": "849eb462",
   "metadata": {},
   "outputs": [],
   "source": [
    "y_1=0\n",
    "u_1=0\n",
    "r_1=[]\n",
    "k=n+(n/10)\n",
    "\n",
    "for i in n:\n",
    "    for l in ll:\n",
    "        if i==l:\n",
    "            r_1.append(kk[y_1])\n",
    "            y_1=y_1+1\n",
    "            u_1=1\n",
    "    if u_1==0:\n",
    "        r_1.append(0)\n",
    "    elif u_1==1:\n",
    "        u_1=0\n",
    "print(r_1)\n",
    "stem(n,r_1)"
   ]
  },
  {
   "cell_type": "code",
   "execution_count": null,
   "id": "696e14f6",
   "metadata": {},
   "outputs": [],
   "source": []
  }
 ],
 "metadata": {
  "kernelspec": {
   "display_name": "acus099",
   "language": "python",
   "name": "acus099"
  },
  "language_info": {
   "codemirror_mode": {
    "name": "ipython",
    "version": 3
   },
   "file_extension": ".py",
   "mimetype": "text/x-python",
   "name": "python",
   "nbconvert_exporter": "python",
   "pygments_lexer": "ipython3",
   "version": "3.8.10"
  }
 },
 "nbformat": 4,
 "nbformat_minor": 5
}
