{
 "cells": [
  {
   "cell_type": "code",
   "execution_count": null,
   "id": "60f52122",
   "metadata": {},
   "outputs": [],
   "source": [
    "from scipy import signal\n",
    "import matplotlib.pyplot as plt\n",
    "import numpy as np\n",
    "from IPython.display import Image\n",
    "    "
   ]
  },
  {
   "cell_type": "code",
   "execution_count": null,
   "id": "e7a56483",
   "metadata": {},
   "outputs": [],
   "source": [
    "#Señales y su dominio\n",
    "\n",
    "x=[]\n",
    "x_n=[]\n",
    "\n",
    "h=[]\n",
    "h_n=[]\n",
    "\n",
    "minposx_n=min(x_n)\n",
    "maxposh_n=max(h_n)\n",
    "\n",
    "c=\n",
    "\n",
    "#definir n con x_n y h_n\n",
    "\n",
    "n_1=np.arange(minposx_n-c,maxposh_n+c+1)\n"
   ]
  }
 ],
 "metadata": {
  "kernelspec": {
   "display_name": "acus099",
   "language": "python",
   "name": "acus099"
  },
  "language_info": {
   "codemirror_mode": {
    "name": "ipython",
    "version": 3
   },
   "file_extension": ".py",
   "mimetype": "text/x-python",
   "name": "python",
   "nbconvert_exporter": "python",
   "pygments_lexer": "ipython3",
   "version": "3.8.10"
  }
 },
 "nbformat": 4,
 "nbformat_minor": 5
}
