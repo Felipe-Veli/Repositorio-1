{
 "cells": [
  {
   "cell_type": "code",
   "execution_count": null,
   "id": "1cceb1f0",
   "metadata": {},
   "outputs": [],
   "source": [
    "from scipy import signal\n",
    "import matplotlib.pyplot as plt\n",
    "import numpy as np\n",
    "from IPython.display import Image"
   ]
  },
  {
   "cell_type": "code",
   "execution_count": null,
   "id": "632f3653",
   "metadata": {},
   "outputs": [],
   "source": [
    "#Definiendo stem para graficar \n",
    "def stem(n,x):\n",
    "\n",
    "    markerline, stemlines, baseline = plt.stem(n, x, markerfmt='o', label='x')\n",
    "    plt.setp(stemlines, 'color', plt.getp(markerline,'color'))\n",
    "    plt.setp(stemlines, 'linestyle', 'dotted')\n",
    "    plt.rcParams[\"figure.figsize\"]=(16,5)\n",
    "\n",
    "    plt.legend()\n",
    "    plt.show()"
   ]
  },
  {
   "cell_type": "code",
   "execution_count": null,
   "id": "b81657a6",
   "metadata": {},
   "outputs": [],
   "source": [
    "#Señales y su dominio\n",
    "\n",
    "x=[1,3,5,7,9]\n",
    "x_n=[-13,-12,-11,-10,-9]\n",
    "\n",
    "h=[1,1,1,1,1]\n",
    "h_n=[9,10,11,12,13]\n",
    "\n",
    "minposx_n=min(x_n)\n",
    "maxposh_n=max(h_n)\n",
    "\n",
    "c=2\n",
    "\n",
    "#definir n con x_n y h_n\n",
    "\n",
    "n_1=np.arange(minposx_n-c,maxposh_n+c+1)\n"
   ]
  },
  {
   "cell_type": "code",
   "execution_count": null,
   "id": "b4289d77",
   "metadata": {},
   "outputs": [],
   "source": [
    "#cantidad de 0 a usar\n",
    "\n",
    "zeros=abs(len(x)+len(h)-len(n_1))\n",
    "print(zeros)\n",
    "\n",
    "#ceros en medio\n",
    "\n",
    "C=abs((len(x)+c)+(len(h)+c)-len(n_1))\n",
    "print(C)\n"
   ]
  },
  {
   "cell_type": "code",
   "execution_count": null,
   "id": "34105dc4",
   "metadata": {},
   "outputs": [],
   "source": [
    "#depurando \n",
    "\n",
    "#usar lista_3=[0  for i in range(c)] para ahorrar \n",
    "\n",
    "#lista_3=[]\n",
    "#for Z in range (c):\n",
    " #   lista_3.append(0)\n",
    "\n",
    "lista_3=[0  for i in range(c)]\n",
    "\n",
    "for J,K in enumerate(x):\n",
    "        lista_3.append(K)\n",
    "\n",
    "for a in range(zeros-1):\n",
    "            lista_3.append(0)\n",
    "\n",
    "print(lista_3)\n",
    "print(len(lista_3))"
   ]
  },
  {
   "cell_type": "code",
   "execution_count": null,
   "id": "bf0a1054",
   "metadata": {},
   "outputs": [],
   "source": [
    "#ahora con la señal h\n",
    "\n",
    "lista_4=[0 for Z in range (zeros-1)]\n",
    "\n",
    "for J,K in enumerate(h):\n",
    "    lista_4.append(K)\n",
    "    \n",
    "for A in range (c):\n",
    "    lista_4.append(0)\n",
    "    \n",
    "print(lista_4)\n",
    "print(len(lista_4))"
   ]
  },
  {
   "cell_type": "code",
   "execution_count": null,
   "id": "87b86d05",
   "metadata": {},
   "outputs": [],
   "source": [
    "#Uniendo las señales\n",
    "\n",
    "L=[]\n",
    "for a in n_1:\n",
    "    H=abs(min(n_1)-a)\n",
    "    L.append(H)\n",
    "    #print(H)\n",
    "    \n",
    "print(L)\n",
    "print(len(L))"
   ]
  },
  {
   "cell_type": "code",
   "execution_count": null,
   "id": "63745a03",
   "metadata": {},
   "outputs": [],
   "source": [
    "L_2=[]\n",
    "\n",
    "for A in L:\n",
    "    \n",
    "        if A<c:\n",
    "            L_2.append(0)\n",
    "            \n",
    "for J,K in enumerate(x):\n",
    "        L_2.append(K)\n",
    "            \n",
    "        #if A<=c+len(x):\n",
    "         #   L_2.append(x[K])\n",
    "            \n",
    "for A in range(C):\n",
    "    \n",
    "        #if A<len(L)-(len(h)+len(x)+c):\n",
    "            L_2.append(0)\n",
    "\n",
    "for J,K in enumerate(h):\n",
    "        L_2.append(K)\n",
    "        \n",
    "        #elif A>=len(L)-len(h)-c:\n",
    "         #    L_2.append(h[1])\n",
    "        \n",
    "for A in L:\n",
    "    \n",
    "        if A>=len(n_1)-c:\n",
    "            L_2.append(0)"
   ]
  },
  {
   "cell_type": "code",
   "execution_count": null,
   "id": "2807fdd7",
   "metadata": {},
   "outputs": [],
   "source": [
    "stem(n_1,L_2)"
   ]
  },
  {
   "cell_type": "code",
   "execution_count": null,
   "id": "d8a4881e",
   "metadata": {},
   "outputs": [],
   "source": []
  }
 ],
 "metadata": {
  "kernelspec": {
   "display_name": "acus099",
   "language": "python",
   "name": "acus099"
  },
  "language_info": {
   "codemirror_mode": {
    "name": "ipython",
    "version": 3
   },
   "file_extension": ".py",
   "mimetype": "text/x-python",
   "name": "python",
   "nbconvert_exporter": "python",
   "pygments_lexer": "ipython3",
   "version": "3.8.10"
  }
 },
 "nbformat": 4,
 "nbformat_minor": 5
}
