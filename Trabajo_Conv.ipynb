{
 "cells": [
  {
   "cell_type": "markdown",
   "id": "2ca0522c",
   "metadata": {},
   "source": [
    "# Convolución Animada\n",
    "***\n",
    "## Integrantes:\n",
    "- Felipe Véliz ; felipe.veliz@alumnos.uach.cl\n",
    "\n",
    "- Leonardo Santos ; leonardo.santos@alumnos.uach.cl\n",
    "\n",
    "## Institución:\n",
    "Universidad Austral de Chile\n",
    "\n",
    "\n",
    "## Profesor:\n",
    "\n",
    "Victor Poblete\n",
    "\n",
    "## Asignatura:\n",
    "\n",
    "ACUS099\n",
    "\n",
    "## Objetivo:\n",
    "\n",
    "El objetivo de este trabajo es mostrar paso a paso el proceso de convolución en tiempo discreto, de forma animada, usando lenguaje de programación python.\n"
   ]
  },
  {
   "cell_type": "markdown",
   "id": "486a3bb8",
   "metadata": {},
   "source": [
    "## Librerias a usar"
   ]
  },
  {
   "cell_type": "code",
   "execution_count": null,
   "id": "24867be7",
   "metadata": {},
   "outputs": [],
   "source": [
    "import matplotlib.pyplot as plt\n",
    "import numpy as np\n",
    "from IPython import display\n",
    "from IPython.display import YouTubeVideo\n",
    "import time"
   ]
  },
  {
   "cell_type": "markdown",
   "id": "370f47c4",
   "metadata": {},
   "source": [
    "## Definiendo funciones\n",
    "\n",
    "Las funciones que usaremos son las siguientes\n",
    "\n",
    "- **stem:** Grafica simple con eje *x* e *y*\n",
    "- **anim:** Animación de la gráfica "
   ]
  },
  {
   "cell_type": "code",
   "execution_count": null,
   "id": "97f970c0",
   "metadata": {},
   "outputs": [],
   "source": [
    "def stem(n,x):\n",
    "    \n",
    "    fig,ax = plt.subplots(figsize=(16,5))\n",
    "    ax.stem(n,x)\n",
    "    ax.set_xlabel('Posición')\n",
    "    ax.set_ylabel('Amplitud')    \n",
    "    markerline, stemlines, baseline = plt.stem(n, x, markerfmt='o', label='x')\n",
    "    plt.setp(stemlines, 'color', plt.getp(markerline,'color'))\n",
    "    plt.setp(stemlines, 'linestyle', 'dotted')    \n",
    "    ax.legend()\n",
    "    plt.show()\n",
    "    \n",
    "def anim(x,y):\n",
    "    \n",
    "    plt.clf()\n",
    "    ax = plt.gca()\n",
    "    ax.stem(x,y)\n",
    "    ax.set_xlabel('Posicion', fontsize=16)\n",
    "    ax.set_ylabel('Amplitud', fontsize=16)\n",
    "    display.clear_output(wait=True)\n",
    "    display.display(plt.gcf())\n",
    "    time.sleep(0.4)    \n",
    "   "
   ]
  },
  {
   "cell_type": "markdown",
   "id": "ef53563a",
   "metadata": {},
   "source": [
    "# Definiendo variables\n",
    "\n",
    "Las variables que usaremos serán las siguientes\n",
    "\n",
    "- **x:** Lista de amplitudes de la señal *x*\n",
    "- **x_n:** Lista de las posiciones de las amplitudes de la señal *x*\n",
    "\n",
    "\n",
    "- **h:** Lista de amplitudes de la señal *h*\n",
    "- **h_n:** Lista de las posiciones de las amplitudes de la señal *h*\n",
    "\n",
    "\n",
    "- **minposx_n:** El minimo valor de *x_n*\n",
    "- **maxposh_n:** El maximo valor de *h_n*\n",
    "\n",
    "\n",
    "- **n:** Eje de posiciones para el gráfico, construido con un arreglo numpy en base al minimo de *x_n* y al maximo de *h_n*\n",
    "\n",
    "\n",
    "- **c:** Cantidad de ceros a los costados\n",
    "- **C:** Cantidad de ceros entre las señales"
   ]
  },
  {
   "cell_type": "code",
   "execution_count": null,
   "id": "d6c48980",
   "metadata": {},
   "outputs": [],
   "source": [
    "x=[1,3,5,7,9]\n",
    "x_n=[-13,-12,-11,-10,-9]\n",
    "\n",
    "h=[1,1,1,1,1]\n",
    "h_n=[9,10,11,12,13]\n",
    "\n",
    "minposx_n=min(x_n)\n",
    "maxposh_n=max(h_n)\n",
    "\n",
    "c=2\n",
    "\n",
    "n1=np.arange(minposx_n-c,maxposh_n+c+1)\n",
    "n=n1.tolist()\n",
    "\n",
    "C=abs((len(x)+c)+(len(h)+c)-len(n))"
   ]
  },
  {
   "cell_type": "markdown",
   "id": "0e43d441",
   "metadata": {},
   "source": [
    "# Graficando ambas señales en una figura\n",
    "\n",
    "En primera instancia, siempre es mejor ver como y con que elementos vamos a trabajar, por lo que graficar ambas señales es primordial para poder llegar a una convolucion animada.\n",
    "\n",
    "Si queremos graficar las señales, debemos agregar elementos a una lista *r* que tenga ambas señales y sea del mismo largo que *n*. Para lograr esto, debemos hacer **padding**, poner ceros dentro de *r* hasta que ambas listas tengan la misma cantidad de elementos. Luego llamamos a la funcion *stem* para graficar."
   ]
  },
  {
   "cell_type": "code",
   "execution_count": null,
   "id": "164f2c61",
   "metadata": {},
   "outputs": [],
   "source": [
    "K=x+h\n",
    "L=x_n+h_n\n",
    "\n",
    "print(\"Lista con Amplitudes: \",K)\n",
    "print(\"Lista con Posiciones de señales: \",L)\n",
    "print(\"Lista de Posiciones: \",n)"
   ]
  },
  {
   "cell_type": "code",
   "execution_count": null,
   "id": "849eb462",
   "metadata": {},
   "outputs": [],
   "source": [
    "x=[1,3,5,7,9]\n",
    "x_n=[-13,-12,-11,-10,-9]\n",
    "h=[1,1,1,1,1]\n",
    "h_n=[9,10,11,12,13]\n",
    "\n",
    "y_1=0\n",
    "u_1=0\n",
    "r=[]\n",
    "\n",
    "for i in n:\n",
    "    for l in L:\n",
    "        #print(i,l)\n",
    "        if i==l:\n",
    "            r.append(K[y_1])\n",
    "            y_1=y_1+1\n",
    "            u_1=1\n",
    "            \n",
    "    if u_1==0:\n",
    "        r.append(0)\n",
    "    elif u_1==1:\n",
    "        u_1=0\n",
    "        \n",
    "stem(n,r)"
   ]
  },
  {
   "cell_type": "markdown",
   "id": "a5885758",
   "metadata": {},
   "source": [
    "# Comienza el movimiento\n",
    "\n",
    "En esta parte del codigo, propusimos sumar 1 a las posiciones de la señal que se moverá, ya que anteriormente verificamos las posiciones para asignar su correspondiente amplitud al momento de graficar. Luego, es guardada y sobrescrita en la variable L. Este proceso se conoce como **shifting**\n",
    "\n",
    "Usando la funcion *anim* veremos el desplazamiento de la señal *x* hasta topar la señal *h*."
   ]
  },
  {
   "cell_type": "code",
   "execution_count": null,
   "id": "243209bd",
   "metadata": {
    "scrolled": true
   },
   "outputs": [],
   "source": [
    "#animacion\n",
    "\n",
    "x_n=[-13,-12,-11,-10,-9]\n",
    "h_n=[9,10,11,12,13]\n",
    "    \n",
    "for i in range(C):\n",
    "    for a in range(1):  \n",
    "        for R in range (len(x_n)):\n",
    "                 x_n[R]=x_n[R]+1\n",
    "\n",
    "        L1=x_n+h_n\n",
    "        y_1=0\n",
    "        u_1=0\n",
    "        r=[]\n",
    "        \n",
    "        for i in n:\n",
    "                for l in L1:\n",
    "                    if i==l:\n",
    "                        r.append(K[y_1])\n",
    "                        y_1=y_1+1\n",
    "                        u_1=1\n",
    "\n",
    "                if u_1==0:\n",
    "                    r.append(0)\n",
    "\n",
    "                elif u_1==1:\n",
    "                    u_1=0\n",
    "    \n",
    "    if len(n)!=len(r):\n",
    "        plt.clf()\n",
    "        break\n",
    "        \n",
    "    anim(n,r)\n",
    "    plt.clf()"
   ]
  },
  {
   "cell_type": "markdown",
   "id": "2a7aed19",
   "metadata": {},
   "source": [
    "## Superposición de Amplitudes\n",
    "\n",
    "Al llegar el momento de superposicion de amplitudes, tenemos un problema de formas nuevamente, ya que el codigo agrega un cero a la izquierda de la señal por cada movimiento a la derecha. Para solucionar esto, decidimos cambiar el largo de n cada vez que se agregue un cero, agregando la posición que comparten las señales.\n",
    "\n",
    "A su vez, ampliaremos ligeramente el *n* para poder ver el desplazamiento en su totalidad. "
   ]
  },
  {
   "cell_type": "code",
   "execution_count": null,
   "id": "ee9f2134",
   "metadata": {},
   "outputs": [],
   "source": [
    "c=len(x)+2\n",
    "\n",
    "n1=np.arange(minposx_n-c,maxposh_n+c+1)\n",
    "n=n1.tolist()\n",
    "\n",
    "C=abs((len(x)+c)+(len(h)+c)-len(n))"
   ]
  },
  {
   "cell_type": "code",
   "execution_count": null,
   "id": "26606faf",
   "metadata": {},
   "outputs": [],
   "source": [
    "x_n=[-13,-12,-11,-10,-9]\n",
    "h_n=[9,10,11,12,13]\n",
    "for A in range(C+c+len(h)+len(x)):\n",
    "    \n",
    "    K=x+h\n",
    "    n2=[]\n",
    "    cont3=0\n",
    "    cont4=0\n",
    "    n2.extend(n)\n",
    "    \n",
    "    for a in range(1):\n",
    "        for R in range (len(x_n)):\n",
    "            x_n[R]=x_n[R]+1\n",
    "\n",
    "        L1=x_n+h_n\n",
    "        if min(x_n)>max(h_n):\n",
    "            K=h+x\n",
    "        y_1=0\n",
    "        u_1=0\n",
    "        r_1=[]\n",
    "\n",
    "        for i in n:\n",
    "                for l in L1:\n",
    "                    if i==l:\n",
    "                        u_1=1\n",
    "                        \n",
    "                        if y_1<len(K):\n",
    "                            r_1.append(K[y_1])\n",
    "                            y_1=y_1+1\n",
    "                            \n",
    "                if u_1==0:\n",
    "                    r_1.append(0)\n",
    "\n",
    "                elif u_1==1:\n",
    "                    u_1=0\n",
    "                    \n",
    "    if max(x_n)<=max(h_n):\n",
    "        for d in x_n:\n",
    "            for e in h_n:\n",
    "                if d==e:\n",
    "                    if max(x_n)<=max(h_n):\n",
    "                        n2.insert(C+len(x)+c+cont3,e)\n",
    "                        cont3=cont3+1\n",
    "\n",
    "    elif max(x_n)>max(h_n) and min(x_n)<=max(h_n):\n",
    "        for di in x_n:\n",
    "            bot4=0\n",
    "            for ei in h_n:\n",
    "                if di==ei:\n",
    "                    n2.insert(n2[min(h_n)-1],ei)\n",
    "                    bot4=1\n",
    "\n",
    "                elif di!=ei and ei==max(h_n) and bot4==0 :\n",
    "                    n2.remove(di)\n",
    "                    n2.insert(n2[min(h_n)+cont4],di)\n",
    "                    cont4=cont4+1              \n",
    "    anim(n2,r_1)\n",
    "    plt.clf()"
   ]
  },
  {
   "cell_type": "markdown",
   "id": "2d6e00c6",
   "metadata": {},
   "source": [
    "## Convolución\n",
    "\n",
    "En la siguiente celda sucede la convolucion. Para esto necesitamos crear un arreglo de ceros con numpy que tenga una dimension igual al largo de la suma de las señales. Creamos un nuevo arreglo con la lista h, que tenga la misma cantidad de ceros a la izquierda y a la derecha que el largo de la señal x. \n",
    "\n",
    "A medida que las señales se superponen, se multiplican y se suman. A medida que sucede esto el resultado de esta operación es una nueva señal *Y[n]*. Como ejemplo, podemos ver *(d)* en la Fig.1\n",
    "\n",
    "Para poder hacer esto, nos apoyamos del codigo [2]\n"
   ]
  },
  {
   "cell_type": "markdown",
   "id": "41f48748",
   "metadata": {
    "scrolled": false
   },
   "source": [
    "![Foto1](pag27.png)\n",
    "\n",
    "$$\\text{Fig.1 Convolución [1] (Pag.27)}$$"
   ]
  },
  {
   "cell_type": "code",
   "execution_count": null,
   "id": "530d6abb",
   "metadata": {},
   "outputs": [],
   "source": [
    "YouTubeVideo('37CzQ8YCmlc') "
   ]
  },
  {
   "cell_type": "code",
   "execution_count": null,
   "id": "7b243b0f",
   "metadata": {
    "scrolled": true
   },
   "outputs": [],
   "source": [
    "#Animacion\n",
    "x=[1,3,5,7,9]\n",
    "h=[1,1,1,1,1]\n",
    "\n",
    "Y=np.zeros(len(x)+len(h))\n",
    "n3=np.arange(0,len(Y))\n",
    "\n",
    "h3=np.insert(h,0,np.zeros(len(x)))\n",
    "h3=np.insert(h3,len(h3),np.zeros(len(x)))\n",
    "h3=h3.tolist()\n",
    "\n",
    "for AA in range(1):\n",
    "    for j in np.arange(0,len(Y)):\n",
    "        for k in np.arange(0,len(x)):\n",
    "            YY=k+j\n",
    "            Y[j]=x[k]*h3[YY]+Y[j]\n",
    "            \n",
    "        anim(n3,Y)\n",
    "    plt.clf()"
   ]
  },
  {
   "cell_type": "markdown",
   "id": "7b7207a1",
   "metadata": {},
   "source": [
    "## Conclusión\n",
    "\n",
    "Para conlcuir, a lo largo de este proceso se siguió la planficiación inicial, enfocada en los conocimientos fundamentales de procesamiento de señales como *padding, shifting, definiciones* y su empleo en python como tambien librerias vistas en clases, apoyadas con recursos bibliograficos lo es *Discrete time, signal processing-Alan V. Oppenheim*. Lograr visualizar el medio para obtener el resultado deseado de la convulucion fue el principal desafio en cuanto a el planteamiento en codigo. Además, mencionar que este fue un proyecto el cual implicó que el principal avance surgiese en base a prueba y error, creando un ritmo de avance autodidacta muy exquisito y reconfortante a lo largo del proceso, el cual otórgo un conocimiento bastante robusto, ademas de un gran abanico de codigos para emplear a futuro. Realmente este fue un desafío bastante completo y dirigido hacia un gran aprendizaje que se logró con satisfaccion."
   ]
  }
 ],
 "metadata": {
  "kernelspec": {
   "display_name": "acus099",
   "language": "python",
   "name": "acus099"
  },
  "language_info": {
   "codemirror_mode": {
    "name": "ipython",
    "version": 3
   },
   "file_extension": ".py",
   "mimetype": "text/x-python",
   "name": "python",
   "nbconvert_exporter": "python",
   "pygments_lexer": "ipython3",
   "version": "3.8.10"
  }
 },
 "nbformat": 4,
 "nbformat_minor": 5
}
